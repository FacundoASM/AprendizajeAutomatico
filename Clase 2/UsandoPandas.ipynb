{
 "cells": [
  {
   "cell_type": "markdown",
   "metadata": {},
   "source": [
    "FORMATO CSV\n",
    "=="
   ]
  },
  {
   "cell_type": "code",
   "execution_count": null,
   "metadata": {},
   "outputs": [],
   "source": [
    "import pandas as pd \n",
    "dat_csv = pd.read_csv('datos/empleados.csv', encoding = \"ISO-8859-1\")\n",
    "dat_csv \n",
    " "
   ]
  },
  {
   "cell_type": "markdown",
   "metadata": {},
   "source": [
    ">Si queremos que en lugar de todos los datos, se restrinja la salida a las primeras cinco filas, podemos utilizar el método head()."
   ]
  },
  {
   "cell_type": "code",
   "execution_count": null,
   "metadata": {},
   "outputs": [],
   "source": [
    "dat_csv.head() "
   ]
  },
  {
   "cell_type": "markdown",
   "metadata": {},
   "source": [
    ">En los dos casos anteriores, aparecen los elementos de la primera fila como los nombres de las columnas de datos, si no quisiéramos este comportamiento podemos agregar el atributo header = None, de la siguiente manera:"
   ]
  },
  {
   "cell_type": "code",
   "execution_count": null,
   "metadata": {},
   "outputs": [],
   "source": [
    "dat_csv = pd.read_csv('datos/empleados.csv', encoding = \"ISO-8859-1\", header = None)\n",
    "dat_csv "
   ]
  },
  {
   "cell_type": "markdown",
   "metadata": {},
   "source": [
    ">Si quisiéramos que tomar una determinada línea como cabecera, debemos asignarle al parámetro header el número de fila correspondiente, en el siguiente ejemplo se toma la línea 3 como cabecera:"
   ]
  },
  {
   "cell_type": "code",
   "execution_count": null,
   "metadata": {},
   "outputs": [],
   "source": [
    "dat_csv = pd.read_csv('datos/empleados.csv', encoding = \"ISO-8859-1\", header = 3)\n",
    "dat_csv "
   ]
  },
  {
   "cell_type": "markdown",
   "metadata": {},
   "source": [
    ">Por defecto, read_csv asigna un índice numérico predeterminado que comienza con cero al leer los datos. Sin embargo, es posible alterar este comportamiento pasando el nombre de la columna que utilizaremos como índice. A continuación se dejara la columna id como índice de la tabla:"
   ]
  },
  {
   "cell_type": "code",
   "execution_count": null,
   "metadata": {},
   "outputs": [],
   "source": [
    "dat_csv = pd.read_csv('datos/empleados.csv', encoding = \"ISO-8859-1\", index_col='id')\n",
    "dat_csv"
   ]
  },
  {
   "cell_type": "markdown",
   "metadata": {},
   "source": [
    ">En el caso de que queramos restringir la tabla a algunas columnas específicas, podemos realizarlo con el parámetro __usecols__ indicando en una lista las columnas seleccionadas. "
   ]
  },
  {
   "cell_type": "code",
   "execution_count": null,
   "metadata": {},
   "outputs": [],
   "source": [
    "dat_csv  = pd.read_csv('datos/empleados.csv', encoding = \"ISO-8859-1\", usecols=['Nombre', 'Sueldo'])\n",
    "dat_csv.head()"
   ]
  },
  {
   "cell_type": "markdown",
   "metadata": {},
   "source": [
    ">Si queremos eliminar una fila en particular, podemos utilizar el parámetro skiprows, en el siguiente caso se eliminan las filas 1 y 4:"
   ]
  },
  {
   "cell_type": "code",
   "execution_count": null,
   "metadata": {},
   "outputs": [],
   "source": [
    "dat_csv  = pd.read_csv('datos/empleados.csv', encoding = \"ISO-8859-1\", skiprows = [1,4])\n",
    "dat_csv"
   ]
  },
  {
   "cell_type": "markdown",
   "metadata": {},
   "source": [
    ">Para presentar un número dado de filas desde el inicio, podemos utilizar el parámetro nrows, en el siguiente ejemplo se presentan las primeras tres filas de datos."
   ]
  },
  {
   "cell_type": "code",
   "execution_count": null,
   "metadata": {},
   "outputs": [],
   "source": [
    "dat_csv  = pd.read_csv('datos/empleados.csv', encoding = \"ISO-8859-1\",  nrows=3)\n",
    "dat_csv"
   ]
  },
  {
   "cell_type": "markdown",
   "metadata": {},
   "source": [
    ">Para seleccionar un rango específico de filas podemos utilizar el método query especificando los límites aplicables sobre una determinada columna:"
   ]
  },
  {
   "cell_type": "code",
   "execution_count": null,
   "metadata": {},
   "outputs": [],
   "source": [
    "dat_csv  = pd.read_csv('datos/empleados.csv', encoding = \"ISO-8859-1\")\n",
    "dat_csv.query('2 < id < 6')"
   ]
  },
  {
   "cell_type": "markdown",
   "metadata": {},
   "source": [
    ">Para tratar con los datos de una columna, podemos recuperarlos dentro de una lista mediante el uso de un bucle for, y luego si es necesario convertir la lista en una array como se muestra a continuación:"
   ]
  },
  {
   "cell_type": "code",
   "execution_count": null,
   "metadata": {},
   "outputs": [],
   "source": [
    "import pandas as pd\n",
    "import numpy as np\n",
    "dat_csv  = pd.read_csv('datos/datos.csv', encoding = \"ISO-8859-1\")\n",
    "datos_x = dat_csv.nombre\n",
    "datos_y = dat_csv.genero\n",
    "x = []\n",
    "y = []\n",
    "for i in dat_csv.nombre:\n",
    "    x.append(i)\n",
    "for j in dat_csv.genero:\n",
    "    y.append(j)\n",
    "print(x)    \n",
    "print(y)\n",
    "\n",
    "x_array = np.array(x)\n",
    "print(type(x_array))\n",
    "print(x_array)"
   ]
  },
  {
   "cell_type": "markdown",
   "metadata": {},
   "source": [
    "FORMATO EXCEL\n",
    "=="
   ]
  },
  {
   "cell_type": "markdown",
   "metadata": {},
   "source": [
    ">En el caso de trabajar directamente con un archivo de Excel, podemos utilizar el método __read_excel()__"
   ]
  },
  {
   "cell_type": "code",
   "execution_count": null,
   "metadata": {},
   "outputs": [],
   "source": [
    "import pandas as pd \n",
    "dat_excel  = pd.read_excel('datos/empleados.xlsx') \n",
    "dat_excel.head()"
   ]
  },
  {
   "cell_type": "markdown",
   "metadata": {},
   "source": [
    "FORMATO JSON\n",
    "==\n"
   ]
  },
  {
   "cell_type": "code",
   "execution_count": null,
   "metadata": {},
   "outputs": [],
   "source": [
    "import pandas as pd\n",
    "movies_json = pd.read_json('datos/json1.json')\n",
    "movies_json.head()"
   ]
  },
  {
   "cell_type": "markdown",
   "metadata": {},
   "source": [
    "FORMATO HTML\n",
    "=="
   ]
  },
  {
   "cell_type": "code",
   "execution_count": null,
   "metadata": {},
   "outputs": [],
   "source": [
    "import pandas as pd\n",
    "pd.read_html('datos/index.html')"
   ]
  },
  {
   "cell_type": "markdown",
   "metadata": {},
   "source": [
    "BASE DE DATOS\n",
    "=="
   ]
  },
  {
   "cell_type": "code",
   "execution_count": null,
   "metadata": {},
   "outputs": [],
   "source": [
    "import pandas as pd\n",
    "import sqlite3\n",
    "conn = sqlite3.connect(\"datos/mibase.sqlite\")\n",
    "df = pd.read_sql_query(\"SELECT * FROM producto;\", conn)\n",
    "df.head()"
   ]
  },
  {
   "cell_type": "markdown",
   "metadata": {},
   "source": [
    "FORMATO XML\n",
    "=="
   ]
  },
  {
   "cell_type": "code",
   "execution_count": null,
   "metadata": {},
   "outputs": [],
   "source": [
    "import xml.etree.cElementTree as et\n",
    "parsed_xml = et.parse(\"datos/datos.xml\")\n",
    "\n",
    "\n",
    "import pandas as pd\n",
    " \n",
    "def obtenerValorDeNodo(node):\n",
    "    return node.text if node is not None else None\n",
    " \n",
    " \n",
    "def main():\n",
    "    parsed_xml = et.parse(\"datos/datos.xml\")\n",
    "    dfcols = ['nombre', 'email', 'telefono', 'calle']\n",
    "    df_xml = pd.DataFrame(columns=dfcols)\n",
    " \n",
    "    for node in parsed_xml.getroot():\n",
    "        nombre = node.attrib.get('nombre')\n",
    "        email = node.find('email')\n",
    "        telefono = node.find('telefono')\n",
    "        calle = node.find('direccion/calle')\n",
    " \n",
    "        df_xml = df_xml.append(  pd.Series([nombre, obtenerValorDeNodo(email), \n",
    "                 obtenerValorDeNodo(telefono),  obtenerValorDeNodo(calle)], \n",
    "                 index=dfcols), ignore_index=True)\n",
    "    print(df_xml) \n",
    " \n",
    "main()\n"
   ]
  },
  {
   "cell_type": "code",
   "execution_count": null,
   "metadata": {},
   "outputs": [],
   "source": []
  }
 ],
 "metadata": {
  "kernelspec": {
   "display_name": "Python 3 (ipykernel)",
   "language": "python",
   "name": "python3"
  },
  "language_info": {
   "codemirror_mode": {
    "name": "ipython",
    "version": 3
   },
   "file_extension": ".py",
   "mimetype": "text/x-python",
   "name": "python",
   "nbconvert_exporter": "python",
   "pygments_lexer": "ipython3",
   "version": "3.9.12"
  }
 },
 "nbformat": 4,
 "nbformat_minor": 4
}
