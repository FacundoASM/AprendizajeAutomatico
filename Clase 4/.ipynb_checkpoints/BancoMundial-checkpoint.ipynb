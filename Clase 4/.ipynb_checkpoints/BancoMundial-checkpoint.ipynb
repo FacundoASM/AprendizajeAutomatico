{
 "cells": [
  {
   "cell_type": "markdown",
   "id": "5630209c",
   "metadata": {},
   "source": [
    "# Regresión lineal con datos del Banco Mundial (PIB)"
   ]
  },
  {
   "cell_type": "markdown",
   "id": "fe96ed6b",
   "metadata": {},
   "source": [
    "La Regresión lineal es un modelo matemático que nos ayuda a relacionar dos o más variables con el objetivo de identificar la relación que tiene una variable en función de la otra.\n",
    "El objetivo de este ejercicio es encontrar una posible relación o linealidad entre el PIB(Producto Interno Bruto) de diferentes paises del mundo."
   ]
  },
  {
   "cell_type": "code",
   "execution_count": null,
   "id": "a86e1873",
   "metadata": {},
   "outputs": [],
   "source": [
    "import pandas as pd\n",
    "import numpy as np\n",
    "import matplotlib.pyplot as plt"
   ]
  },
  {
   "cell_type": "markdown",
   "id": "907776ba",
   "metadata": {},
   "source": [
    "### PASO 1: Preparar y orgnaizar los datos"
   ]
  },
  {
   "cell_type": "code",
   "execution_count": null,
   "id": "591f5e30",
   "metadata": {},
   "outputs": [],
   "source": [
    "path = 'ARCHIVO.CSV' # reemplazar por el nombre de archivo\n",
    "data1 = pd.read_csv(path)"
   ]
  },
  {
   "cell_type": "code",
   "execution_count": null,
   "id": "5261461d",
   "metadata": {
    "scrolled": true
   },
   "outputs": [],
   "source": [
    "df = data1.T # Transpone índice y columnas del DataFrame\n",
    "df.columns = data1['Country Name'] # Titulo de las columnas del DataFrame\n",
    "df = df[4:] # Toma los datos a partir de la 4 filas\n",
    "#df"
   ]
  },
  {
   "cell_type": "code",
   "execution_count": null,
   "id": "64e2dc89",
   "metadata": {},
   "outputs": [],
   "source": [
    "# Toma los años como lista de indices \n",
    "index = df.index.values.tolist()\n",
    "#index"
   ]
  },
  {
   "cell_type": "code",
   "execution_count": null,
   "id": "8340205e",
   "metadata": {},
   "outputs": [],
   "source": [
    "# Carga los datos de cada país en las variables predictoras\n",
    "argentina = df['Argentina'].fillna(method='backfill').values # Rellena NaN con el próximo valor válido \n",
    "mexico = df['México'].fillna(method='backfill').values\n",
    "mundo = df['Mundo'].fillna(method='backfill').values\n",
    "sudafrica = df['Sudáfrica'].fillna(method='backfill').values\n",
    "eu = df['Estados Unidos'].fillna(method='backfill').values\n",
    "españa = df['España'].fillna(method='backfill').values\n",
    "china = df['China'].fillna(method='backfill').values\n",
    "francia = df['Francia'].fillna(method='backfill').values\n",
    "noruega = df['Noruega'].fillna(method='backfill').values"
   ]
  },
  {
   "cell_type": "markdown",
   "id": "dc27ffb3",
   "metadata": {},
   "source": [
    "### PASO 2: Exploración de los datos"
   ]
  },
  {
   "cell_type": "code",
   "execution_count": null,
   "id": "1137c8a6",
   "metadata": {
    "scrolled": true
   },
   "outputs": [],
   "source": [
    "#%matplotlib notebook\n",
    "fig, ax = plt.subplots(figsize=(16,7))\n",
    " \n",
    "plt.plot(index, argentina)\n",
    "plt.plot(index, mexico)\n",
    "plt.plot(index, mundo)\n",
    "plt.plot(index, sudafrica)\n",
    "plt.plot(index, eu)\n",
    "plt.plot(index,españa)\n",
    "plt.plot(index,china)\n",
    "plt.plot(index,francia)\n",
    "plt.plot(index,noruega)\n",
    "\n",
    "plt.legend([\"Argentina\",\"México\",\"Mundo\",\"Sudáfrica\",\"Estados Unidos\",\"España\",\"China\",\"Francia\",\"Noruega\"])\n",
    "fig.autofmt_xdate(rotation=70)\n",
    "plt.title(\"Producto Interno Bruto (US$ a precios actuales)\")\n",
    "plt.grid(True)\n",
    "plt.show()"
   ]
  },
  {
   "cell_type": "markdown",
   "id": "82cae984",
   "metadata": {},
   "source": [
    "### PASO 3: Modelado de datos"
   ]
  },
  {
   "cell_type": "markdown",
   "id": "5e3204cb",
   "metadata": {},
   "source": [
    "Función que nos facilita desarrollar un modelo de regresión lineal."
   ]
  },
  {
   "cell_type": "code",
   "execution_count": null,
   "id": "ba02aa50",
   "metadata": {},
   "outputs": [],
   "source": [
    "def regresion_lineal(data, y, *args):\n",
    "    \n",
    "    import pandas as pd\n",
    "    import numpy as np\n",
    "    from sklearn.linear_model import LinearRegression\n",
    "    from sklearn import metrics\n",
    "    from sklearn.model_selection import train_test_split\n",
    "\n",
    "    Y= data[y]\n",
    "    X= data[args[0]]\n",
    "    \n",
    "    # Se divide el conjunto de datos en dos bloques de entrenamiento y prueba\n",
    "    X_entrenamiento, X_prueba, y_entrenamiento, y_prueba= train_test_split(X, Y, test_size= 0.2, random_state= 2) \n",
    "    \n",
    "    # Creamos un objeto de regresión lineal\n",
    "    lm = LinearRegression()     \n",
    "\n",
    "    # Ajustamos la regresión a los datos de entrenamiento\n",
    "    lm.fit(X_entrenamiento, y_entrenamiento)\n",
    "\n",
    "    print('Cuadrados: ', lm.score(X_entrenamiento, y_entrenamiento))\n",
    "    prediccion= lm.predict(pd.DataFrame(X_prueba))\n",
    "    \n",
    "    RSS= sum((y_prueba - prediccion)**2) # Suma de residuos al cuadrado\n",
    "    RSE= np.sqrt(RSS/(len(data)-2)) # Error estándar residual\n",
    "    media= np.mean(y_prueba)\n",
    "    error= RSE/media\n",
    "         \n",
    "    # El error significa el porcentaje que el modelo no puede ser explicado\n",
    "    print('Error: ', error)"
   ]
  },
  {
   "cell_type": "markdown",
   "id": "b85b0e0e",
   "metadata": {},
   "source": [
    "Las entradas de la función deben los datos ya depurados, es muy probable que, si estos no están procesados, la función arroje errores. También se tiene que identificar la o las variables predictoras (x) y la variable que se va a predecir (y). En el caso de este ejemplo la variable que queremos predecir es el PIB del Mundo, por lo tanto, se usaran los países como variables predictoras.\n",
    "\n",
    "Es importante conciderar en la evaluación de los resultados que el valor de los cuadrados entre más cercano sea a 1 o 100% significa que la linealidad de ambas variables está muy relacionada. Y cuanto más bajo sea el valor del error, mas justificado por el modelo."
   ]
  },
  {
   "cell_type": "code",
   "execution_count": null,
   "id": "cd609ef5",
   "metadata": {},
   "outputs": [],
   "source": [
    "y = 'Mundo'\n",
    "x = ['México']\n",
    "regresion_lineal(df.bfill().ffill(), y, x)"
   ]
  },
  {
   "cell_type": "markdown",
   "id": "ab666eda",
   "metadata": {},
   "source": [
    "Podemos agregar mas de una variable predictora a nuestro modelo, para este ejemplo agregaremos **Argentina**, **México** y **Sudáfrica**. Debiendo comparar los resultados contra los ejemplos anteriores. Buscando  mejora en los cuadrados y el error."
   ]
  },
  {
   "cell_type": "code",
   "execution_count": null,
   "id": "0900a5c1",
   "metadata": {},
   "outputs": [],
   "source": [
    "y = 'Mundo'\n",
    "x = ['Argentina', 'México', 'Sudáfrica']\n",
    "regresion_lineal(df.bfill().ffill(), y, x)"
   ]
  },
  {
   "cell_type": "markdown",
   "id": "672bbc4d",
   "metadata": {},
   "source": [
    "Basado en el ejercicio [Regresión lineal con datos del Banco Mundial (PIB)](https://www.kaggle.com/code/carlosgm9/regresi-n-lineal-con-datos-del-banco-mundial-pib)"
   ]
  }
 ],
 "metadata": {
  "kernelspec": {
   "display_name": "Python 3 (ipykernel)",
   "language": "python",
   "name": "python3"
  },
  "language_info": {
   "codemirror_mode": {
    "name": "ipython",
    "version": 3
   },
   "file_extension": ".py",
   "mimetype": "text/x-python",
   "name": "python",
   "nbconvert_exporter": "python",
   "pygments_lexer": "ipython3",
   "version": "3.9.12"
  }
 },
 "nbformat": 4,
 "nbformat_minor": 5
}
