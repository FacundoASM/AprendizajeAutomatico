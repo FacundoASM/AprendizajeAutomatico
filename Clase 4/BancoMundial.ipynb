{
 "cells": [
  {
   "cell_type": "markdown",
   "id": "5630209c",
   "metadata": {},
   "source": [
    "# Regresión lineal con datos del Banco Mundial (PIB)"
   ]
  },
  {
   "cell_type": "markdown",
   "id": "fe96ed6b",
   "metadata": {},
   "source": [
    "La Regresión lineal es un modelo matemático que nos ayuda a relacionar dos o más variables con el objetivo de identificar la relación que tiene una variable en función de la otra.\n",
    "El objetivo de este ejercicio es encontrar una posible relación o linealidad entre el PIB(Producto Interno Bruto) de diferentes paises del mundo."
   ]
  },
  {
   "cell_type": "code",
   "execution_count": 1,
   "id": "a86e1873",
   "metadata": {},
   "outputs": [],
   "source": [
    "import pandas as pd\n",
    "import numpy as np\n",
    "import matplotlib.pyplot as plt"
   ]
  },
  {
   "cell_type": "markdown",
   "id": "907776ba",
   "metadata": {},
   "source": [
    "### PASO 1: Preparar y orgnaizar los datos"
   ]
  },
  {
   "cell_type": "code",
   "execution_count": 2,
   "id": "591f5e30",
   "metadata": {},
   "outputs": [
    {
     "ename": "ParserError",
     "evalue": "Error tokenizing data. C error: Expected 3 fields in line 5, saw 68\n",
     "output_type": "error",
     "traceback": [
      "\u001b[0;31m---------------------------------------------------------------------------\u001b[0m",
      "\u001b[0;31mParserError\u001b[0m                               Traceback (most recent call last)",
      "Cell \u001b[0;32mIn[2], line 2\u001b[0m\n\u001b[1;32m      1\u001b[0m path \u001b[38;5;241m=\u001b[39m \u001b[38;5;124m'\u001b[39m\u001b[38;5;124mdatos/pib.csv\u001b[39m\u001b[38;5;124m'\u001b[39m \u001b[38;5;66;03m# reemplazar por el nombre de archivo\u001b[39;00m\n\u001b[0;32m----> 2\u001b[0m data1 \u001b[38;5;241m=\u001b[39m pd\u001b[38;5;241m.\u001b[39mread_csv(path)\n",
      "File \u001b[0;32m~/anaconda3/lib/python3.11/site-packages/pandas/util/_decorators.py:211\u001b[0m, in \u001b[0;36mdeprecate_kwarg.<locals>._deprecate_kwarg.<locals>.wrapper\u001b[0;34m(*args, **kwargs)\u001b[0m\n\u001b[1;32m    209\u001b[0m     \u001b[38;5;28;01melse\u001b[39;00m:\n\u001b[1;32m    210\u001b[0m         kwargs[new_arg_name] \u001b[38;5;241m=\u001b[39m new_arg_value\n\u001b[0;32m--> 211\u001b[0m \u001b[38;5;28;01mreturn\u001b[39;00m func(\u001b[38;5;241m*\u001b[39margs, \u001b[38;5;241m*\u001b[39m\u001b[38;5;241m*\u001b[39mkwargs)\n",
      "File \u001b[0;32m~/anaconda3/lib/python3.11/site-packages/pandas/util/_decorators.py:331\u001b[0m, in \u001b[0;36mdeprecate_nonkeyword_arguments.<locals>.decorate.<locals>.wrapper\u001b[0;34m(*args, **kwargs)\u001b[0m\n\u001b[1;32m    325\u001b[0m \u001b[38;5;28;01mif\u001b[39;00m \u001b[38;5;28mlen\u001b[39m(args) \u001b[38;5;241m>\u001b[39m num_allow_args:\n\u001b[1;32m    326\u001b[0m     warnings\u001b[38;5;241m.\u001b[39mwarn(\n\u001b[1;32m    327\u001b[0m         msg\u001b[38;5;241m.\u001b[39mformat(arguments\u001b[38;5;241m=\u001b[39m_format_argument_list(allow_args)),\n\u001b[1;32m    328\u001b[0m         \u001b[38;5;167;01mFutureWarning\u001b[39;00m,\n\u001b[1;32m    329\u001b[0m         stacklevel\u001b[38;5;241m=\u001b[39mfind_stack_level(),\n\u001b[1;32m    330\u001b[0m     )\n\u001b[0;32m--> 331\u001b[0m \u001b[38;5;28;01mreturn\u001b[39;00m func(\u001b[38;5;241m*\u001b[39margs, \u001b[38;5;241m*\u001b[39m\u001b[38;5;241m*\u001b[39mkwargs)\n",
      "File \u001b[0;32m~/anaconda3/lib/python3.11/site-packages/pandas/io/parsers/readers.py:950\u001b[0m, in \u001b[0;36mread_csv\u001b[0;34m(filepath_or_buffer, sep, delimiter, header, names, index_col, usecols, squeeze, prefix, mangle_dupe_cols, dtype, engine, converters, true_values, false_values, skipinitialspace, skiprows, skipfooter, nrows, na_values, keep_default_na, na_filter, verbose, skip_blank_lines, parse_dates, infer_datetime_format, keep_date_col, date_parser, dayfirst, cache_dates, iterator, chunksize, compression, thousands, decimal, lineterminator, quotechar, quoting, doublequote, escapechar, comment, encoding, encoding_errors, dialect, error_bad_lines, warn_bad_lines, on_bad_lines, delim_whitespace, low_memory, memory_map, float_precision, storage_options)\u001b[0m\n\u001b[1;32m    935\u001b[0m kwds_defaults \u001b[38;5;241m=\u001b[39m _refine_defaults_read(\n\u001b[1;32m    936\u001b[0m     dialect,\n\u001b[1;32m    937\u001b[0m     delimiter,\n\u001b[0;32m   (...)\u001b[0m\n\u001b[1;32m    946\u001b[0m     defaults\u001b[38;5;241m=\u001b[39m{\u001b[38;5;124m\"\u001b[39m\u001b[38;5;124mdelimiter\u001b[39m\u001b[38;5;124m\"\u001b[39m: \u001b[38;5;124m\"\u001b[39m\u001b[38;5;124m,\u001b[39m\u001b[38;5;124m\"\u001b[39m},\n\u001b[1;32m    947\u001b[0m )\n\u001b[1;32m    948\u001b[0m kwds\u001b[38;5;241m.\u001b[39mupdate(kwds_defaults)\n\u001b[0;32m--> 950\u001b[0m \u001b[38;5;28;01mreturn\u001b[39;00m _read(filepath_or_buffer, kwds)\n",
      "File \u001b[0;32m~/anaconda3/lib/python3.11/site-packages/pandas/io/parsers/readers.py:611\u001b[0m, in \u001b[0;36m_read\u001b[0;34m(filepath_or_buffer, kwds)\u001b[0m\n\u001b[1;32m    608\u001b[0m     \u001b[38;5;28;01mreturn\u001b[39;00m parser\n\u001b[1;32m    610\u001b[0m \u001b[38;5;28;01mwith\u001b[39;00m parser:\n\u001b[0;32m--> 611\u001b[0m     \u001b[38;5;28;01mreturn\u001b[39;00m parser\u001b[38;5;241m.\u001b[39mread(nrows)\n",
      "File \u001b[0;32m~/anaconda3/lib/python3.11/site-packages/pandas/io/parsers/readers.py:1778\u001b[0m, in \u001b[0;36mTextFileReader.read\u001b[0;34m(self, nrows)\u001b[0m\n\u001b[1;32m   1771\u001b[0m nrows \u001b[38;5;241m=\u001b[39m validate_integer(\u001b[38;5;124m\"\u001b[39m\u001b[38;5;124mnrows\u001b[39m\u001b[38;5;124m\"\u001b[39m, nrows)\n\u001b[1;32m   1772\u001b[0m \u001b[38;5;28;01mtry\u001b[39;00m:\n\u001b[1;32m   1773\u001b[0m     \u001b[38;5;66;03m# error: \"ParserBase\" has no attribute \"read\"\u001b[39;00m\n\u001b[1;32m   1774\u001b[0m     (\n\u001b[1;32m   1775\u001b[0m         index,\n\u001b[1;32m   1776\u001b[0m         columns,\n\u001b[1;32m   1777\u001b[0m         col_dict,\n\u001b[0;32m-> 1778\u001b[0m     ) \u001b[38;5;241m=\u001b[39m \u001b[38;5;28mself\u001b[39m\u001b[38;5;241m.\u001b[39m_engine\u001b[38;5;241m.\u001b[39mread(  \u001b[38;5;66;03m# type: ignore[attr-defined]\u001b[39;00m\n\u001b[1;32m   1779\u001b[0m         nrows\n\u001b[1;32m   1780\u001b[0m     )\n\u001b[1;32m   1781\u001b[0m \u001b[38;5;28;01mexcept\u001b[39;00m \u001b[38;5;167;01mException\u001b[39;00m:\n\u001b[1;32m   1782\u001b[0m     \u001b[38;5;28mself\u001b[39m\u001b[38;5;241m.\u001b[39mclose()\n",
      "File \u001b[0;32m~/anaconda3/lib/python3.11/site-packages/pandas/io/parsers/c_parser_wrapper.py:230\u001b[0m, in \u001b[0;36mCParserWrapper.read\u001b[0;34m(self, nrows)\u001b[0m\n\u001b[1;32m    228\u001b[0m \u001b[38;5;28;01mtry\u001b[39;00m:\n\u001b[1;32m    229\u001b[0m     \u001b[38;5;28;01mif\u001b[39;00m \u001b[38;5;28mself\u001b[39m\u001b[38;5;241m.\u001b[39mlow_memory:\n\u001b[0;32m--> 230\u001b[0m         chunks \u001b[38;5;241m=\u001b[39m \u001b[38;5;28mself\u001b[39m\u001b[38;5;241m.\u001b[39m_reader\u001b[38;5;241m.\u001b[39mread_low_memory(nrows)\n\u001b[1;32m    231\u001b[0m         \u001b[38;5;66;03m# destructive to chunks\u001b[39;00m\n\u001b[1;32m    232\u001b[0m         data \u001b[38;5;241m=\u001b[39m _concatenate_chunks(chunks)\n",
      "File \u001b[0;32m~/anaconda3/lib/python3.11/site-packages/pandas/_libs/parsers.pyx:808\u001b[0m, in \u001b[0;36mpandas._libs.parsers.TextReader.read_low_memory\u001b[0;34m()\u001b[0m\n",
      "File \u001b[0;32m~/anaconda3/lib/python3.11/site-packages/pandas/_libs/parsers.pyx:866\u001b[0m, in \u001b[0;36mpandas._libs.parsers.TextReader._read_rows\u001b[0;34m()\u001b[0m\n",
      "File \u001b[0;32m~/anaconda3/lib/python3.11/site-packages/pandas/_libs/parsers.pyx:852\u001b[0m, in \u001b[0;36mpandas._libs.parsers.TextReader._tokenize_rows\u001b[0;34m()\u001b[0m\n",
      "File \u001b[0;32m~/anaconda3/lib/python3.11/site-packages/pandas/_libs/parsers.pyx:1973\u001b[0m, in \u001b[0;36mpandas._libs.parsers.raise_parser_error\u001b[0;34m()\u001b[0m\n",
      "\u001b[0;31mParserError\u001b[0m: Error tokenizing data. C error: Expected 3 fields in line 5, saw 68\n"
     ]
    }
   ],
   "source": [
    "path = 'datos/pib.csv' # reemplazar por el nombre de archivo\n",
    "data1 = pd.read_csv(path)"
   ]
  },
  {
   "cell_type": "code",
   "execution_count": null,
   "id": "5261461d",
   "metadata": {
    "scrolled": true
   },
   "outputs": [],
   "source": [
    "df = data1.T # Transpone índice y columnas del DataFrame\n",
    "df.columns = data1['Country Name'] # Titulo de las columnas del DataFrame\n",
    "df = df[4:] # Toma los datos a partir de la 4 filas\n",
    "df"
   ]
  },
  {
   "cell_type": "code",
   "execution_count": null,
   "id": "64e2dc89",
   "metadata": {},
   "outputs": [],
   "source": [
    "# Toma los años como lista de indices \n",
    "index = df.index.values.tolist()\n",
    "#index"
   ]
  },
  {
   "cell_type": "code",
   "execution_count": null,
   "id": "8340205e",
   "metadata": {},
   "outputs": [],
   "source": [
    "# Carga los datos de cada país en las variables predictoras\n",
    "argentina = df['Argentina'].fillna(method='backfill').values # Rellena NaN con el próximo valor válido \n",
    "mexico = df['México'].fillna(method='backfill').values\n",
    "mundo = df['Mundo'].fillna(method='backfill').values\n",
    "sudafrica = df['Sudáfrica'].fillna(method='backfill').values\n",
    "eu = df['Estados Unidos'].fillna(method='backfill').values\n",
    "españa = df['España'].fillna(method='backfill').values\n",
    "china = df['China'].fillna(method='backfill').values\n",
    "francia = df['Francia'].fillna(method='backfill').values\n",
    "noruega = df['Noruega'].fillna(method='backfill').values"
   ]
  },
  {
   "cell_type": "markdown",
   "id": "dc27ffb3",
   "metadata": {},
   "source": [
    "### PASO 2: Exploración de los datos"
   ]
  },
  {
   "cell_type": "code",
   "execution_count": null,
   "id": "1137c8a6",
   "metadata": {
    "scrolled": true
   },
   "outputs": [],
   "source": [
    "#%matplotlib notebook\n",
    "fig, ax = plt.subplots(figsize=(16,7))\n",
    " \n",
    "plt.plot(index, argentina)\n",
    "plt.plot(index, mexico)\n",
    "plt.plot(index, mundo)\n",
    "plt.plot(index, sudafrica)\n",
    "plt.plot(index, eu)\n",
    "plt.plot(index,españa)\n",
    "plt.plot(index,china)\n",
    "plt.plot(index,francia)\n",
    "plt.plot(index,noruega)\n",
    "\n",
    "plt.legend([\"Argentina\",\"México\",\"Mundo\",\"Sudáfrica\",\"Estados Unidos\",\"España\",\"China\",\"Francia\",\"Noruega\"])\n",
    "fig.autofmt_xdate(rotation=70)\n",
    "plt.title(\"Producto Interno Bruto (US$ a precios actuales)\")\n",
    "plt.grid(True)\n",
    "plt.show()"
   ]
  },
  {
   "cell_type": "markdown",
   "id": "82cae984",
   "metadata": {},
   "source": [
    "### PASO 3: Modelado de datos"
   ]
  },
  {
   "cell_type": "markdown",
   "id": "5e3204cb",
   "metadata": {},
   "source": [
    "Función que nos facilita desarrollar un modelo de regresión lineal."
   ]
  },
  {
   "cell_type": "code",
   "execution_count": null,
   "id": "ba02aa50",
   "metadata": {},
   "outputs": [],
   "source": [
    "def regresion_lineal(data, y, *args):\n",
    "    \n",
    "    import pandas as pd\n",
    "    import numpy as np\n",
    "    from sklearn.linear_model import LinearRegression\n",
    "    from sklearn import metrics\n",
    "    from sklearn.model_selection import train_test_split\n",
    "\n",
    "    Y= data[y]\n",
    "    X= data[args[0]]\n",
    "    \n",
    "    # Se divide el conjunto de datos en dos bloques de entrenamiento y prueba\n",
    "    X_entrenamiento, X_prueba, y_entrenamiento, y_prueba= train_test_split(X, Y, test_size= 0.2, random_state= 2) \n",
    "    \n",
    "    # Creamos un objeto de regresión lineal\n",
    "    lm = LinearRegression()     \n",
    "\n",
    "    # Ajustamos la regresión a los datos de entrenamiento\n",
    "    lm.fit(X_entrenamiento, y_entrenamiento)\n",
    "\n",
    "    print('Cuadrados: ', lm.score(X_entrenamiento, y_entrenamiento))\n",
    "    prediccion= lm.predict(pd.DataFrame(X_prueba))\n",
    "    \n",
    "    RSS= sum((y_prueba - prediccion)**2) # Suma de residuos al cuadrado\n",
    "    RSE= np.sqrt(RSS/(len(data)-2)) # Error estándar residual\n",
    "    media= np.mean(y_prueba)\n",
    "    error= RSE/media\n",
    "         \n",
    "    # El error significa el porcentaje que el modelo no puede ser explicado\n",
    "    print('Error: ', error)"
   ]
  },
  {
   "cell_type": "markdown",
   "id": "b85b0e0e",
   "metadata": {},
   "source": [
    "Las entradas de la función deben los datos ya depurados, es muy probable que, si estos no están procesados, la función arroje errores. También se tiene que identificar la o las variables predictoras (x) y la variable que se va a predecir (y). En el caso de este ejemplo la variable que queremos predecir es el PIB del Mundo, por lo tanto, se usaran los países como variables predictoras.\n",
    "\n",
    "Es importante conciderar en la evaluación de los resultados que el valor de los cuadrados entre más cercano sea a 1 o 100% significa que la linealidad de ambas variables está muy relacionada. Y cuanto más bajo sea el valor del error, mas justificado por el modelo."
   ]
  },
  {
   "cell_type": "code",
   "execution_count": null,
   "id": "cd609ef5",
   "metadata": {},
   "outputs": [],
   "source": [
    "y = 'Mundo'\n",
    "x = ['México']\n",
    "regresion_lineal(df.bfill().ffill(), y, x)"
   ]
  },
  {
   "cell_type": "markdown",
   "id": "ab666eda",
   "metadata": {},
   "source": [
    "Podemos agregar mas de una variable predictora a nuestro modelo, para este ejemplo agregaremos **Argentina**, **México** y **Sudáfrica**. Debiendo comparar los resultados contra los ejemplos anteriores. Buscando  mejora en los cuadrados y el error."
   ]
  },
  {
   "cell_type": "code",
   "execution_count": null,
   "id": "0900a5c1",
   "metadata": {},
   "outputs": [],
   "source": [
    "y = 'Mundo'\n",
    "x = ['Argentina', 'México', 'Sudáfrica']\n",
    "regresion_lineal(df.bfill().ffill(), y, x)"
   ]
  },
  {
   "cell_type": "markdown",
   "id": "672bbc4d",
   "metadata": {},
   "source": [
    "Basado en el ejercicio [Regresión lineal con datos del Banco Mundial (PIB)](https://www.kaggle.com/code/carlosgm9/regresi-n-lineal-con-datos-del-banco-mundial-pib)"
   ]
  }
 ],
 "metadata": {
  "kernelspec": {
   "display_name": "Python 3 (ipykernel)",
   "language": "python",
   "name": "python3"
  },
  "language_info": {
   "codemirror_mode": {
    "name": "ipython",
    "version": 3
   },
   "file_extension": ".py",
   "mimetype": "text/x-python",
   "name": "python",
   "nbconvert_exporter": "python",
   "pygments_lexer": "ipython3",
   "version": "3.11.4"
  }
 },
 "nbformat": 4,
 "nbformat_minor": 5
}
