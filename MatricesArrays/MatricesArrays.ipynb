{
 "cells": [
  {
   "attachments": {},
   "cell_type": "markdown",
   "id": "7871ee07",
   "metadata": {},
   "source": [
    "# Matrices y Arrays\n",
    "\n",
    "Al trabajar con algebra lineal utilizamos el concepto de matriz, entendiéndose a una matriz como un arreglo bidimensional de números. Las matrices son designadas por letras mayúsculas y poseen dos subíndices los cuales hacen referencia a la cantidad de elementos de cada fila y columna.\n",
    "\n",
    "![matriz.png](attachment:matriz.png)\n",
    "\n",
    "La matriz anterior “A” se dice que tiene una dimensión de “m” elementos por “n” elementos y también puede ser expresada utilizando dos subíndices (i, j) como:\n",
    "\n",
    "![matriz02.png](attachment:matriz02.png)\n",
    "\n",
    "En donde **i varía entre 1 y m**, y **j varía entre 1 y n.**\n",
    "El proceso de acceso a los elementos de una matriz con conjuntos de enteros se denomina indexación.\n",
    "En nuestro trabajo las matrices son un elemento fundamental, y al trabajar con software utilizamos el nombre de **array** como una abstracción de una matriz. Python no posee un objeto tipo array, por lo cual nos vamos a valer en principio de la librería **numpy** para poder trabajar con arrays. Hay que tener en cuenta que un array no es una lista, aun cuando a simple vista puedan existir similitudes.\n",
    "En numpy expresaremos un array como A[i, j], esta librería admite todas las operaciones de matrices analizadas en álgebra lineal."
   ]
  },
  {
   "cell_type": "markdown",
   "id": "6b093fb8",
   "metadata": {},
   "source": [
    "## Creamos un array con numpy\n",
    "\n",
    "Para crear un array podemos importamos la librería de numpy y utilizamos el método “array()” de forma de pasar todos los elementos del array."
   ]
  },
  {
   "cell_type": "code",
   "execution_count": 1,
   "id": "e3bdc883",
   "metadata": {},
   "outputs": [
    {
     "name": "stdout",
     "output_type": "stream",
     "text": [
      "[[ 1  2  3  4]\n",
      " [ 5  6  7  8]\n",
      " [ 9 10 11 12]]\n",
      "<class 'numpy.ndarray'>\n"
     ]
    }
   ],
   "source": [
    "import numpy as np \n",
    "\n",
    "A = np.array([[1, 2, 3, 4], [5, 6, 7, 8], [9,10, 11, 12]])\n",
    "print(A) \n",
    "print(type(A))"
   ]
  },
  {
   "cell_type": "markdown",
   "id": "02c52854",
   "metadata": {},
   "source": [
    "Como podemos ver jupyter nos retorna el resultado al imprimir en pantalla el array A y lo representa como una matriz."
   ]
  }
 ],
 "metadata": {
  "kernelspec": {
   "display_name": "Python 3 (ipykernel)",
   "language": "python",
   "name": "python3"
  },
  "language_info": {
   "codemirror_mode": {
    "name": "ipython",
    "version": 3
   },
   "file_extension": ".py",
   "mimetype": "text/x-python",
   "name": "python",
   "nbconvert_exporter": "python",
   "pygments_lexer": "ipython3",
   "version": "3.9.12"
  }
 },
 "nbformat": 4,
 "nbformat_minor": 5
}
