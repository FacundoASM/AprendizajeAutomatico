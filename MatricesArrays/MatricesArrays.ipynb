{
 "cells": [
  {
   "cell_type": "markdown",
   "id": "e8d4e187",
   "metadata": {},
   "source": [
    "# Matrices y Arrays\n",
    "\n",
    "Al trabajar con algebra lineal utilizamos el concepto de matriz, entendiéndose a una matriz como un arreglo bidimensional de números. Las matrices son designadas por letras mayúsculas y poseen dos subíndices los cuales hacen referencia a la cantidad de elementos de cada fila y columna.\n",
    "\n"
   ]
  }
 ],
 "metadata": {
  "kernelspec": {
   "display_name": "Python 3 (ipykernel)",
   "language": "python",
   "name": "python3"
  },
  "language_info": {
   "codemirror_mode": {
    "name": "ipython",
    "version": 3
   },
   "file_extension": ".py",
   "mimetype": "text/x-python",
   "name": "python",
   "nbconvert_exporter": "python",
   "pygments_lexer": "ipython3",
   "version": "3.9.12"
  }
 },
 "nbformat": 4,
 "nbformat_minor": 5
}
