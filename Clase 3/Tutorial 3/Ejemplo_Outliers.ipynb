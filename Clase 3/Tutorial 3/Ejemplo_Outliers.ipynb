{
 "cells": [
  {
   "cell_type": "markdown",
   "metadata": {},
   "source": [
    "# ¿Qué son los Outliers?\n",
    "\n",
    "Es interesante ver las traducciones de “outlier” -según su contexto- en inglés:\n",
    "\n",
    "* Atípico\n",
    "* Destacado\n",
    "* Excepcional\n",
    "* Anormal\n",
    "* Valor Extremo, Valor anómalo, valor aberrante!!\n",
    "\n",
    "Eso nos da una idea, ¿no?\n",
    "\n",
    "Es decir, que los outliers en nuestro dataset serán los valores que se “escapan al rango en donde se concentran la mayoría de muestras”. Según Wikipedia son las muestras que están distantes de otras observaciones.\n"
   ]
  },
  {
   "cell_type": "markdown",
   "metadata": {},
   "source": [
    "# Outliers Buenos vs Outliers Malos\n",
    "Los Outliers pueden significar varias cosas:\n",
    "\n",
    "1. _ERROR_: Si tenemos un grupo de “edades de personas” y tenemos una persona con 160 años, seguramente sea un error de carga de datos. En este caso, la detección de outliers nos ayuda a detectar errores.\n",
    "\n",
    "2. _LIMITES_: En otros casos, podemos tener valores que se escapan del “grupo medio”, pero queremos mantener el dato modificado, para que no perjudique al aprendizaje del modelo de ML.\n",
    "\n",
    "3. _Punto de Interés_: puede que sean los casos “anómalos” los que queremos detectar y que sean nuestro objetivo (y no nuestro enemigo!)\n",
    "\n",
    "Muchas veces es sencillo identificar los outliers en gráficas. Veamos ejemplos de Outliers en 1, 2 y 3 dimensiones."
   ]
  },
  {
   "cell_type": "markdown",
   "metadata": {},
   "source": [
    "# Detección de Outliers\n",
    "¿Y por qué nos interesa detectar esos Outliers? Por que pueden afectar considerablemente a los resultados que pueda obtener un modelo de Machine Learning… Para mal… ó para bien! Por eso hay que detectarlos, y tenerlos en cuenta. Por ejemplo en Regresión Lineal ó algoritmos de Ensamble puede tener un impacto negativo en sus predicciones."
   ]
  },
  {
   "cell_type": "markdown",
   "metadata": {},
   "source": [
    "## Outliers en 1 Dimension"
   ]
  },
  {
   "cell_type": "markdown",
   "metadata": {},
   "source": [
    "Si analizáramos una sola variable, por ejemplo “edad”, veremos donde se concentran la mayoría de muestras y los posibles valores “extremos”."
   ]
  },
  {
   "cell_type": "code",
   "execution_count": null,
   "metadata": {
    "ExecuteTime": {
     "end_time": "2020-06-01T23:16:09.722788Z",
     "start_time": "2020-06-01T23:16:09.688933Z"
    }
   },
   "outputs": [],
   "source": [
    "import matplotlib.pyplot as plt\n",
    "import numpy as np\n",
    "from math import pi"
   ]
  },
  {
   "cell_type": "code",
   "execution_count": null,
   "metadata": {
    "ExecuteTime": {
     "end_time": "2020-06-01T23:16:10.052976Z",
     "start_time": "2020-06-01T23:16:09.729252Z"
    }
   },
   "outputs": [],
   "source": [
    "# %matplotlib notebook\n",
    "\n",
    "edades = np.array([22,22,23,23,23,23,26,27,27,28,30,30,30,30,31,32,33,34,80])\n",
    "edad_unique, counts = np.unique(edades, return_counts=True) # Sin repetir valores\n",
    "sizes = counts*100\n",
    "colors = ['blue']*len(edad_unique)\n",
    "colors[-1] = 'red'\n",
    "\n",
    "plt.axhline(1, color='k', linestyle='--') # Agrega linea hotizontal\n",
    "plt.scatter(edad_unique, np.ones(len(edad_unique)), s=sizes, color=colors)\n",
    "plt.yticks([])\n",
    "plt.show()"
   ]
  },
  {
   "cell_type": "markdown",
   "metadata": {},
   "source": [
    "En azul los valores donde se concentra la mayoría de nuestras filas. En rojo un outlier, ó “valor extremo”.\n",
    "\n",
    "En el código, importamos librerías, creamos un array de edades con Numpy y luego contabilizamos las ocurrencias.\n",
    "\n",
    "Al graficar vemos donde se concentran la mayoría de edades, entre 20 y 35 años. Y una muestra aislada con valor 80."
   ]
  },
  {
   "cell_type": "markdown",
   "metadata": {},
   "source": [
    "## Outliers en 2 Dimensiones"
   ]
  },
  {
   "cell_type": "markdown",
   "metadata": {},
   "source": [
    "Ahora supongamos que tenemos 2 variables: edad e ingresos. Hagamos una gráfica en 2D. Además, usaremos una fórmula para trazar un círculo que delimitará los valores outliers: Los valores que superen el valor de la “media más 2 desvíos estándar” (el área del círculo) quedarán en rojo."
   ]
  },
  {
   "cell_type": "code",
   "execution_count": null,
   "metadata": {
    "ExecuteTime": {
     "end_time": "2020-06-01T23:16:10.615068Z",
     "start_time": "2020-06-01T23:16:10.055915Z"
    }
   },
   "outputs": [],
   "source": [
    "salario_anual_miles = np.array([16,20,15,21,19,17,33,22,31,32,56,30,22,31,30,16,2,22,23])\n",
    "media = (salario_anual_miles).mean()\n",
    "std_x = (salario_anual_miles).std()*2\n",
    "media_y = (edades).mean()\n",
    "std_y = (edades).std()*2\n",
    "\n",
    "colors = ['blue']*len(salario_anual_miles)\n",
    "for index, x in enumerate(salario_anual_miles):\n",
    "    if abs(x-media) > std_x:\n",
    "        colors[index] = 'red'\n",
    "        \n",
    "for index, x in enumerate(edades):\n",
    "    if abs(x-media_y) > std_y:\n",
    "        colors[index] = 'red'\n",
    "\n",
    "plt.scatter(edades, salario_anual_miles, s=100, color=colors)\n",
    "plt.axhline(media, color='k', linestyle='--')\n",
    "plt.axvline(media_y, color='k', linestyle='--')\n",
    "\n",
    "v=media     #y-position of the center\n",
    "u=media_y    #x-position of the center\n",
    "b=std_x     #radius on the y-axis\n",
    "a=std_y    #radius on the x-axis\n",
    "\n",
    "t = np.linspace(0, 2*pi, 100)\n",
    "plt.plot( u+a*np.cos(t) , v+b*np.sin(t) ) # dibuja el circulo\n",
    "\n",
    "plt.xlabel('Edad')\n",
    "plt.ylabel('Salario Anual (miles)')\n",
    "plt.show()"
   ]
  },
  {
   "cell_type": "markdown",
   "metadata": {},
   "source": [
    "Dentro del circulo azul, los valores que están en la media y en rojo los outliers: 3 valores que superan en más de 2 veces el desvío estándar."
   ]
  },
  {
   "cell_type": "markdown",
   "metadata": {},
   "source": [
    "Veamos -con la ayuda de seaborn-, _la línea de tendencia de la misma distribución_ con y sin outliers:"
   ]
  },
  {
   "cell_type": "markdown",
   "metadata": {},
   "source": [
    "### Como afectan los Outliers"
   ]
  },
  {
   "cell_type": "code",
   "execution_count": null,
   "metadata": {
    "ExecuteTime": {
     "end_time": "2020-06-01T23:16:11.636161Z",
     "start_time": "2020-06-01T23:16:11.314499Z"
    }
   },
   "outputs": [],
   "source": [
    "import seaborn as sns\n",
    "\n",
    "#CON OUTLIERS: La línea de tendencia se mantiene plana sobre todo por el outlier de la edad\n",
    "\n",
    "sns.set(color_codes=True)\n",
    "sns.regplot(x=edades, y=salario_anual_miles)"
   ]
  },
  {
   "cell_type": "code",
   "execution_count": null,
   "metadata": {
    "ExecuteTime": {
     "end_time": "2020-06-01T23:16:12.019733Z",
     "start_time": "2020-06-01T23:16:11.639270Z"
    }
   },
   "outputs": [],
   "source": [
    "# SIN OUTLIERS: Al quitar los outliers la tendencia empieza a tener pendiente\n",
    "\n",
    "edades_fix=[]\n",
    "salario_anual_miles_fix=[]\n",
    "\n",
    "for index, x in enumerate(salario_anual_miles):\n",
    "    y= edades[index]\n",
    "    if abs(x-media) > std_x or abs(y-media_y) > std_y:\n",
    "        pass\n",
    "    else:\n",
    "        edades_fix.append(y)\n",
    "        salario_anual_miles_fix.append(x)\n",
    "        \n",
    "sns.regplot(x=np.array(edades_fix), y=np.array(salario_anual_miles_fix))"
   ]
  },
  {
   "cell_type": "markdown",
   "metadata": {},
   "source": [
    "Con esto nos podemos dar una idea de qué distinto podría resultar entrenar un modelo de Machine Learning con ó sin esas muestras anormales."
   ]
  },
  {
   "cell_type": "markdown",
   "metadata": {},
   "source": [
    "## Outliers en 3D"
   ]
  },
  {
   "cell_type": "markdown",
   "metadata": {},
   "source": [
    "Vamos viendo que algunas de las muestras del dataset inicial van quedando fuera!\n",
    "\n",
    "¿Qué pasa si añadimos una 3ra dimensión nuestro dataset? Por ejemplo, la dimensión de “compras por mes” de cada usuario."
   ]
  },
  {
   "cell_type": "code",
   "execution_count": null,
   "metadata": {
    "ExecuteTime": {
     "end_time": "2020-06-01T23:16:10.839244Z",
     "start_time": "2020-06-01T23:16:10.618600Z"
    }
   },
   "outputs": [],
   "source": [
    "from mpl_toolkits.mplot3d import Axes3D\n",
    "fig = plt.figure(figsize=(7,7))\n",
    "\n",
    "ax = fig.add_subplot(projection='3d')\n",
    "\n",
    "compras_mes = np.array([1,2,1,20,1,0,3,2,3,0,5,3,2,1,0,1,2,2,2])\n",
    "media_z = (compras_mes).mean()\n",
    "std_z = (compras_mes).std()*2\n",
    "\n",
    "for index, x in enumerate(compras_mes):\n",
    "    if abs(x-media_z) > std_z:\n",
    "        colors[index] = 'red'\n",
    "\n",
    "ax.scatter(edades, salario_anual_miles, compras_mes, s=20, c=colors)\n",
    "plt.xlabel('Edad')\n",
    "plt.ylabel('Salario Anual (miles)')\n",
    "ax.set_zlabel('Compras mensuales')\n",
    "\n",
    "plt.show()"
   ]
  },
  {
   "cell_type": "markdown",
   "metadata": {},
   "source": [
    "Vemos en 3 dimensiones que hay valores que escapan a la _distribución normal_. Valores atípicos en rojo.\n",
    "\n",
    "En el caso de las compras mensuales, vemos que aparece un nuevo “punto rojo” en el eje Z. Debemos pensar si es un usuario que queremos descartar ó que por el contrario, nos interesa analizar."
   ]
  },
  {
   "cell_type": "markdown",
   "metadata": {},
   "source": [
    "### Outliers en N-dimensiones"
   ]
  },
  {
   "cell_type": "markdown",
   "metadata": {},
   "source": [
    "La realidad es que en los modelos con los que trabajamos constan de muchas dimensiones, podemos tener 30, 100 ó miles. Entonces ya no parece tan sencillo visualizar los outliers.\n",
    "\n",
    "Podemos seguir detectando los outliers “a ciegas” y manejarlos. O mediante una librería (más adelante se comenta)."
   ]
  },
  {
   "cell_type": "markdown",
   "metadata": {},
   "source": [
    "## Outliers usando Boxplots"
   ]
  },
  {
   "cell_type": "markdown",
   "metadata": {},
   "source": [
    "Una gráfica bastante interesante de conocer es la de los _Boxplots_, muy utilizados en el mundo financiero. En nuestro caso, podemos visualizar las variables y en esa “cajita” veremos donde se concentra el 50 por ciento de nuestra distribución (percentiles 25 a 75), los valores mínimos y máximos (las rayas en “T”) y -por supuesto- los outliers, esos “valores extraños” y alejados."
   ]
  },
  {
   "cell_type": "code",
   "execution_count": null,
   "metadata": {
    "ExecuteTime": {
     "end_time": "2020-06-01T23:16:10.996385Z",
     "start_time": "2020-06-01T23:16:10.841529Z"
    }
   },
   "outputs": [],
   "source": [
    "green_diamond = dict(markerfacecolor='g', marker='D')\n",
    "fig, ax = plt.subplots()\n",
    "ax.set_title('Boxplot por Edades')\n",
    "ax.boxplot(edades, flierprops=green_diamond, labels=[\"Edad\"])"
   ]
  },
  {
   "cell_type": "code",
   "execution_count": null,
   "metadata": {
    "ExecuteTime": {
     "end_time": "2020-06-01T23:16:11.147116Z",
     "start_time": "2020-06-01T23:16:10.999771Z"
    }
   },
   "outputs": [],
   "source": [
    "green_diamond = dict(markerfacecolor='g', marker='D')\n",
    "fig, ax = plt.subplots()\n",
    "ax.set_title('Boxplot por Salario')\n",
    "ax.boxplot(salario_anual_miles, flierprops=green_diamond, labels=[\"Salarios\"])"
   ]
  },
  {
   "cell_type": "code",
   "execution_count": null,
   "metadata": {
    "ExecuteTime": {
     "end_time": "2020-06-01T23:16:11.310832Z",
     "start_time": "2020-06-01T23:16:11.153087Z"
    }
   },
   "outputs": [],
   "source": [
    "green_diamond = dict(markerfacecolor='g', marker='D')\n",
    "fig, ax = plt.subplots()\n",
    "ax.set_title('Boxplot por Compras')\n",
    "ax.boxplot(compras_mes, flierprops=green_diamond, labels=[\"Compras\"])"
   ]
  },
  {
   "cell_type": "markdown",
   "metadata": {},
   "source": [
    "Ese diamante verde está muy alejado de nuestra media!"
   ]
  },
  {
   "cell_type": "markdown",
   "metadata": {},
   "source": [
    "# Una vez detectados, ¿qué hago?"
   ]
  },
  {
   "cell_type": "markdown",
   "metadata": {},
   "source": [
    "Según la lógica de negocio podemos actuar de una manera u otra.\n",
    "\n",
    "Por ejemplo podríamos decidir:\n",
    "\n",
    "* Las edades fuera de la distribución normal, eliminar.\n",
    "* El salario que sobrepasa el límite, asignar el valor máximo (media + 2 sigmas).\n",
    "* Las compras mensuales, mantener sin cambios."
   ]
  },
  {
   "cell_type": "markdown",
   "metadata": {},
   "source": [
    "# Outliers usando Libreria Pyod"
   ]
  },
  {
   "cell_type": "markdown",
   "metadata": {},
   "source": [
    "En el código utilicé una medida conocida para la detección de outliers que puede servir: _la media de la distribución más 2 sigmas como frontera_. Pero existen otras estrategias para delimitar outliers.\n",
    "\n",
    "Una librería muy recomendada es PyOD. Posee diversas estrategias para detectar Outliers. Ofrece distintos algoritmos, entre ellos Knn que tiene mucho sentido, pues analiza la cercanía entre muestras, PCA, Redes Neuronales, veamos cómo utilizarla en nuestro ejemplo."
   ]
  },
  {
   "cell_type": "code",
   "execution_count": null,
   "metadata": {
    "ExecuteTime": {
     "end_time": "2020-06-01T23:16:12.037233Z",
     "start_time": "2020-06-01T23:16:12.028378Z"
    }
   },
   "outputs": [],
   "source": [
    "#!pip install pyod"
   ]
  },
  {
   "cell_type": "code",
   "execution_count": null,
   "metadata": {
    "ExecuteTime": {
     "end_time": "2020-06-01T23:16:12.053030Z",
     "start_time": "2020-06-01T23:16:12.045440Z"
    }
   },
   "outputs": [],
   "source": [
    "from pyod.models.knn import KNN\n",
    "from pyod.models.pca import PCA\n",
    "import pandas as pd"
   ]
  },
  {
   "cell_type": "code",
   "execution_count": null,
   "metadata": {
    "ExecuteTime": {
     "end_time": "2020-06-01T23:16:12.083017Z",
     "start_time": "2020-06-01T23:16:12.064669Z"
    }
   },
   "outputs": [],
   "source": [
    "df = pd.DataFrame(data={'edad':edades,'salario':salario_anual_miles, 'compras':compras_mes})"
   ]
  },
  {
   "cell_type": "code",
   "execution_count": null,
   "metadata": {
    "ExecuteTime": {
     "end_time": "2020-06-01T23:16:12.134795Z",
     "start_time": "2020-06-01T23:16:12.091513Z"
    }
   },
   "outputs": [],
   "source": [
    "clf = KNN(contamination=0.18)\n",
    "#clf = PCA(contamination=0.17)\n",
    "clf.fit(df)\n",
    "\n",
    "X=df\n",
    "clf.fit(X)\n",
    "scores_pred = clf.decision_function(X)\n",
    "y_pred = clf.predict(X)"
   ]
  },
  {
   "cell_type": "code",
   "execution_count": null,
   "metadata": {
    "ExecuteTime": {
     "end_time": "2020-06-01T23:16:12.168806Z",
     "start_time": "2020-06-01T23:16:12.148309Z"
    }
   },
   "outputs": [],
   "source": [
    "scores_pred"
   ]
  },
  {
   "cell_type": "code",
   "execution_count": null,
   "metadata": {
    "ExecuteTime": {
     "end_time": "2020-06-01T23:16:12.189546Z",
     "start_time": "2020-06-01T23:16:12.178616Z"
    }
   },
   "outputs": [],
   "source": [
    "y_pred"
   ]
  },
  {
   "cell_type": "code",
   "execution_count": null,
   "metadata": {
    "ExecuteTime": {
     "end_time": "2020-06-01T23:16:12.237165Z",
     "start_time": "2020-06-01T23:16:12.205552Z"
    }
   },
   "outputs": [],
   "source": [
    "df[y_pred == 1]"
   ]
  },
  {
   "cell_type": "markdown",
   "metadata": {},
   "source": [
    "La librería PyOd detecta los registros anómalos.\n",
    "\n",
    "Para problemas en la vida real, con múltiples dimensiones conviene apoyarnos en una librería como esta que nos facilitará la tarea de detección y limpieza/transformación del dataset."
   ]
  }
 ],
 "metadata": {
  "kernelspec": {
   "display_name": "Python 3 (ipykernel)",
   "language": "python",
   "name": "python3"
  },
  "language_info": {
   "codemirror_mode": {
    "name": "ipython",
    "version": 3
   },
   "file_extension": ".py",
   "mimetype": "text/x-python",
   "name": "python",
   "nbconvert_exporter": "python",
   "pygments_lexer": "ipython3",
   "version": "3.9.12"
  }
 },
 "nbformat": 4,
 "nbformat_minor": 2
}
