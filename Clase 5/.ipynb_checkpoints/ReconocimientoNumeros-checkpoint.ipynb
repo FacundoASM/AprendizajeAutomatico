{
 "cells": [
  {
   "cell_type": "markdown",
   "id": "5d0e4cb9-f31e-444d-a3fb-9627f5bb9e14",
   "metadata": {},
   "source": [
    "# RECONOCIMIENTO DE NÚMEROS"
   ]
  },
  {
   "cell_type": "markdown",
   "id": "48e78169-f687-4ff6-9abd-dabf74939b36",
   "metadata": {},
   "source": [
    "### PREPARACIÓN DE LA INFORMACIÓN\n",
    "\n",
    "Inicialmente se importa las librerias de mayor uso"
   ]
  },
  {
   "cell_type": "code",
   "execution_count": null,
   "id": "e48f8a60-315c-4b03-80ba-62f47b983954",
   "metadata": {},
   "outputs": [],
   "source": [
    "import numpy as np # algebra lineal\n",
    "import pandas as pd # procesamiento de datos\n",
    "import matplotlib.pyplot as plt # hacer graficos\n",
    "from sklearn import metrics"
   ]
  },
  {
   "cell_type": "markdown",
   "id": "f0eada41-8373-44b0-b0a8-fc287b09a60f",
   "metadata": {},
   "source": [
    "Se carga la base de datos y se verifica la información que contiene"
   ]
  },
  {
   "cell_type": "code",
   "execution_count": null,
   "id": "bdbc18d0-f1dd-4328-939a-1bbb0d34ba6c",
   "metadata": {},
   "outputs": [],
   "source": [
    "# importa la base de datos de los digitos\n",
    "from sklearn.datasets import load_digits\n",
    "digits = load_digits()\n",
    "\n",
    "# averigua que contiene la base digits\n",
    "print(\"shape: \", digits.data.shape)\n",
    "print(\"keys: \", digits.keys())\n",
    "print(\"target names: \", digits['target_names'])"
   ]
  },
  {
   "cell_type": "markdown",
   "id": "2dbdeb61-70ed-4ee1-af1d-a778623f08e1",
   "metadata": {},
   "source": [
    "Se puede observar una pequeña muestra de las imagenes"
   ]
  },
  {
   "cell_type": "code",
   "execution_count": null,
   "id": "b4cfd130-46ed-43ab-99a3-7298f6c5bb7f",
   "metadata": {},
   "outputs": [],
   "source": [
    "# visualización de las imagenes\n",
    "images_and_labels = list(zip(digits.images, digits.target))\n",
    "plt.figure(figsize=(5,5))\n",
    "for index, (image, label) in enumerate(images_and_labels[:20]):\n",
    "    plt.subplot(2, 10, index + 1)\n",
    "    plt.axis('off')\n",
    "    plt.imshow(image, cmap=plt.cm.gray_r, interpolation='nearest')\n",
    "    plt.title('%i' % label)"
   ]
  },
  {
   "cell_type": "markdown",
   "id": "1bb8cc17-bfd0-402c-a0de-48a8390878ba",
   "metadata": {},
   "source": [
    "Para el entrenamiento, se separa los datos por train_test_split, los datos fueron divididos:\n",
    "\n",
    "* 25% para prueba\n",
    "* 75% para entrenamiento"
   ]
  },
  {
   "cell_type": "code",
   "execution_count": null,
   "id": "fde0531d-840a-4dc9-a038-8f0c622b484d",
   "metadata": {},
   "outputs": [],
   "source": [
    "# se separa los datos con train_test_split\n",
    "from sklearn.model_selection import train_test_split\n",
    "xtrain, xtest, ytrain, ytest = train_test_split(digits['data'],digits['target'])"
   ]
  },
  {
   "cell_type": "markdown",
   "id": "8cb560ec-ac85-4eb5-b2de-c20a5e2570eb",
   "metadata": {},
   "source": [
    "## VECINO MAS PRÓXIMO K-NN"
   ]
  },
  {
   "cell_type": "markdown",
   "id": "3ce669f9-953c-4448-b99d-f152e029dd3a",
   "metadata": {},
   "source": [
    "Para trabajar con el metodo de K-NN, se importa la librería `KNeighborsClassifier`"
   ]
  },
  {
   "cell_type": "code",
   "execution_count": null,
   "id": "e94d87bd-2c2e-41a6-a052-588c7c5add61",
   "metadata": {},
   "outputs": [],
   "source": [
    "# se trabaja con vecinos mas cercanos K-NN\n",
    "from sklearn.neighbors import KNeighborsClassifier\n",
    "knn = KNeighborsClassifier(n_neighbors=3)\n",
    "knn.fit(xtrain, ytrain)\n",
    "print('la exactitud por el metodo K-NN es:')\n",
    "print('por la funcion de metricas es:',metrics.accuracy_score(ytest, knn.predict(xtest)))\n",
    "print('por la funcion score es:',knn.score(xtest, ytest))\n",
    "print('la exactitud para los datos de entrenamiento es:',knn.score(xtrain, ytrain))"
   ]
  },
  {
   "cell_type": "markdown",
   "id": "7b5eb83c-96f6-4e8e-96e3-58a483701ce6",
   "metadata": {},
   "source": [
    "## ARBOL DE DESICIÓN"
   ]
  },
  {
   "cell_type": "markdown",
   "id": "93983380-4641-4f07-80d4-62049dfa44ed",
   "metadata": {},
   "source": [
    "Para trabajar con el metodo de árbol de decisión, se importa la librería `DecisionTreeClassifier`"
   ]
  },
  {
   "cell_type": "code",
   "execution_count": null,
   "id": "cf8de3c5-ec17-44da-8952-552d119d2623",
   "metadata": {},
   "outputs": [],
   "source": [
    "# se trabaja con arbol de decision\n",
    "from sklearn.tree import DecisionTreeClassifier\n",
    "dtc = DecisionTreeClassifier(criterion=\"entropy\", min_samples_leaf=5)\n",
    "dtc.fit(xtrain, ytrain)\n",
    "print('la exactitud por el metodo de arbol de decisión es:')\n",
    "print('por la funcion de metricas es:', metrics.accuracy_score(ytest, dtc.predict(xtest)))\n",
    "print('por la funcion score es:',dtc.score(xtest, ytest))\n",
    "print('la exactitud para los datos de entrenamiento es:',dtc.score(xtrain, ytrain))"
   ]
  },
  {
   "cell_type": "code",
   "execution_count": null,
   "id": "ca60e15b-09fc-49a4-8666-0e7387de3f70",
   "metadata": {},
   "outputs": [],
   "source": [
    "# para dibujar el arbol de decisión\n",
    "from sklearn.tree import export_graphviz\n",
    "export_graphviz(dtc, out_file = 'dtc.dot')\n",
    "import graphviz\n",
    "with open('dtc.dot') as f:\n",
    "    dot_graph = f.read()\n",
    "graphviz.Source(dot_graph)"
   ]
  }
 ],
 "metadata": {
  "kernelspec": {
   "display_name": "Python 3 (ipykernel)",
   "language": "python",
   "name": "python3"
  },
  "language_info": {
   "codemirror_mode": {
    "name": "ipython",
    "version": 3
   },
   "file_extension": ".py",
   "mimetype": "text/x-python",
   "name": "python",
   "nbconvert_exporter": "python",
   "pygments_lexer": "ipython3",
   "version": "3.11.4"
  }
 },
 "nbformat": 4,
 "nbformat_minor": 5
}
